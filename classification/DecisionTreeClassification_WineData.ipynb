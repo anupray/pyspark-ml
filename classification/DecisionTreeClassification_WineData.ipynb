{
 "cells": [
  {
   "cell_type": "markdown",
   "metadata": {},
   "source": [
    "## Objective\n",
    "---------------------\n",
    "We will be exploring the Spark ML Library to perform a classification task using **`DecisionTreeClassifier`** on the wine dataset.\n",
    "\n",
    "Dataset Source: https://archive.ics.uci.edu/ml/machine-learning-databases/wine/wine.data"
   ]
  },
  {
   "cell_type": "markdown",
   "metadata": {},
   "source": [
    "### [1] Explore Wine Dataset"
   ]
  },
  {
   "cell_type": "code",
   "execution_count": 1,
   "metadata": {},
   "outputs": [],
   "source": [
    "from pyspark.sql import SparkSession\n",
    "from pyspark.sql import functions as func\n",
    "from pyspark.sql import DataFrame"
   ]
  },
  {
   "cell_type": "code",
   "execution_count": 2,
   "metadata": {},
   "outputs": [],
   "source": [
    "data_loc = '../Course Materials/spark-2-building-machine-learning-models/02/demos/datasets/wine.data'"
   ]
  },
  {
   "cell_type": "code",
   "execution_count": 3,
   "metadata": {},
   "outputs": [],
   "source": [
    "# Create Spark Session Object\n",
    "\n",
    "spark = SparkSession.builder.appName('Decision Tree Classifier').getOrCreate()"
   ]
  },
  {
   "cell_type": "code",
   "execution_count": 4,
   "metadata": {},
   "outputs": [
    {
     "name": "stdout",
     "output_type": "stream",
     "text": [
      "+---+-----+----+----+----+---+----+----+---+----+----+----+----+----+\n",
      "|_c0|  _c1| _c2| _c3| _c4|_c5| _c6| _c7|_c8| _c9|_c10|_c11|_c12|_c13|\n",
      "+---+-----+----+----+----+---+----+----+---+----+----+----+----+----+\n",
      "|  1|14.23|1.71|2.43|15.6|127| 2.8|3.06|.28|2.29|5.64|1.04|3.92|1065|\n",
      "|  1| 13.2|1.78|2.14|11.2|100|2.65|2.76|.26|1.28|4.38|1.05| 3.4|1050|\n",
      "|  1|13.16|2.36|2.67|18.6|101| 2.8|3.24| .3|2.81|5.68|1.03|3.17|1185|\n",
      "|  1|14.37|1.95| 2.5|16.8|113|3.85|3.49|.24|2.18| 7.8| .86|3.45|1480|\n",
      "|  1|13.24|2.59|2.87|  21|118| 2.8|2.69|.39|1.82|4.32|1.04|2.93| 735|\n",
      "+---+-----+----+----+----+---+----+----+---+----+----+----+----+----+\n",
      "only showing top 5 rows\n",
      "\n"
     ]
    }
   ],
   "source": [
    "wine = spark.read.csv(data_loc)\n",
    "wine.show(5)"
   ]
  },
  {
   "cell_type": "code",
   "execution_count": 5,
   "metadata": {},
   "outputs": [],
   "source": [
    "# Apply Column Names to DF\n",
    "\n",
    "wine = wine.toDF('Label',\n",
    "                'Alcohol',\n",
    "                'MalicAcid',\n",
    "                'Ash',\n",
    "                'AshAlkalinity',\n",
    "                'Magnesium',\n",
    "                'TotalPhenols',\n",
    "                'Flavanoids',\n",
    "                'NonflavanoidPhenols',\n",
    "                'Proanthocyanins',\n",
    "                'ColorIntensity',\n",
    "                'Hue',\n",
    "                'OD',\n",
    "                'Proline')"
   ]
  },
  {
   "cell_type": "code",
   "execution_count": 6,
   "metadata": {},
   "outputs": [
    {
     "name": "stdout",
     "output_type": "stream",
     "text": [
      "root\n",
      " |-- Label: string (nullable = true)\n",
      " |-- Alcohol: string (nullable = true)\n",
      " |-- MalicAcid: string (nullable = true)\n",
      " |-- Ash: string (nullable = true)\n",
      " |-- AshAlkalinity: string (nullable = true)\n",
      " |-- Magnesium: string (nullable = true)\n",
      " |-- TotalPhenols: string (nullable = true)\n",
      " |-- Flavanoids: string (nullable = true)\n",
      " |-- NonflavanoidPhenols: string (nullable = true)\n",
      " |-- Proanthocyanins: string (nullable = true)\n",
      " |-- ColorIntensity: string (nullable = true)\n",
      " |-- Hue: string (nullable = true)\n",
      " |-- OD: string (nullable = true)\n",
      " |-- Proline: string (nullable = true)\n",
      "\n"
     ]
    }
   ],
   "source": [
    "wine.printSchema()"
   ]
  },
  {
   "cell_type": "code",
   "execution_count": 7,
   "metadata": {},
   "outputs": [
    {
     "data": {
      "text/html": [
       "<div>\n",
       "<style scoped>\n",
       "    .dataframe tbody tr th:only-of-type {\n",
       "        vertical-align: middle;\n",
       "    }\n",
       "\n",
       "    .dataframe tbody tr th {\n",
       "        vertical-align: top;\n",
       "    }\n",
       "\n",
       "    .dataframe thead th {\n",
       "        text-align: right;\n",
       "    }\n",
       "</style>\n",
       "<table border=\"1\" class=\"dataframe\">\n",
       "  <thead>\n",
       "    <tr style=\"text-align: right;\">\n",
       "      <th></th>\n",
       "      <th>Label</th>\n",
       "      <th>Alcohol</th>\n",
       "      <th>MalicAcid</th>\n",
       "      <th>Ash</th>\n",
       "      <th>AshAlkalinity</th>\n",
       "      <th>Magnesium</th>\n",
       "      <th>TotalPhenols</th>\n",
       "      <th>Flavanoids</th>\n",
       "      <th>NonflavanoidPhenols</th>\n",
       "      <th>Proanthocyanins</th>\n",
       "      <th>ColorIntensity</th>\n",
       "      <th>Hue</th>\n",
       "      <th>OD</th>\n",
       "      <th>Proline</th>\n",
       "    </tr>\n",
       "  </thead>\n",
       "  <tbody>\n",
       "    <tr>\n",
       "      <th>0</th>\n",
       "      <td>1</td>\n",
       "      <td>14.23</td>\n",
       "      <td>1.71</td>\n",
       "      <td>2.43</td>\n",
       "      <td>15.6</td>\n",
       "      <td>127</td>\n",
       "      <td>2.8</td>\n",
       "      <td>3.06</td>\n",
       "      <td>.28</td>\n",
       "      <td>2.29</td>\n",
       "      <td>5.64</td>\n",
       "      <td>1.04</td>\n",
       "      <td>3.92</td>\n",
       "      <td>1065</td>\n",
       "    </tr>\n",
       "    <tr>\n",
       "      <th>1</th>\n",
       "      <td>1</td>\n",
       "      <td>13.2</td>\n",
       "      <td>1.78</td>\n",
       "      <td>2.14</td>\n",
       "      <td>11.2</td>\n",
       "      <td>100</td>\n",
       "      <td>2.65</td>\n",
       "      <td>2.76</td>\n",
       "      <td>.26</td>\n",
       "      <td>1.28</td>\n",
       "      <td>4.38</td>\n",
       "      <td>1.05</td>\n",
       "      <td>3.4</td>\n",
       "      <td>1050</td>\n",
       "    </tr>\n",
       "    <tr>\n",
       "      <th>2</th>\n",
       "      <td>1</td>\n",
       "      <td>13.16</td>\n",
       "      <td>2.36</td>\n",
       "      <td>2.67</td>\n",
       "      <td>18.6</td>\n",
       "      <td>101</td>\n",
       "      <td>2.8</td>\n",
       "      <td>3.24</td>\n",
       "      <td>.3</td>\n",
       "      <td>2.81</td>\n",
       "      <td>5.68</td>\n",
       "      <td>1.03</td>\n",
       "      <td>3.17</td>\n",
       "      <td>1185</td>\n",
       "    </tr>\n",
       "    <tr>\n",
       "      <th>3</th>\n",
       "      <td>1</td>\n",
       "      <td>14.37</td>\n",
       "      <td>1.95</td>\n",
       "      <td>2.5</td>\n",
       "      <td>16.8</td>\n",
       "      <td>113</td>\n",
       "      <td>3.85</td>\n",
       "      <td>3.49</td>\n",
       "      <td>.24</td>\n",
       "      <td>2.18</td>\n",
       "      <td>7.8</td>\n",
       "      <td>.86</td>\n",
       "      <td>3.45</td>\n",
       "      <td>1480</td>\n",
       "    </tr>\n",
       "    <tr>\n",
       "      <th>4</th>\n",
       "      <td>1</td>\n",
       "      <td>13.24</td>\n",
       "      <td>2.59</td>\n",
       "      <td>2.87</td>\n",
       "      <td>21</td>\n",
       "      <td>118</td>\n",
       "      <td>2.8</td>\n",
       "      <td>2.69</td>\n",
       "      <td>.39</td>\n",
       "      <td>1.82</td>\n",
       "      <td>4.32</td>\n",
       "      <td>1.04</td>\n",
       "      <td>2.93</td>\n",
       "      <td>735</td>\n",
       "    </tr>\n",
       "  </tbody>\n",
       "</table>\n",
       "</div>"
      ],
      "text/plain": [
       "  Label Alcohol MalicAcid   Ash AshAlkalinity Magnesium TotalPhenols  \\\n",
       "0     1   14.23      1.71  2.43          15.6       127          2.8   \n",
       "1     1    13.2      1.78  2.14          11.2       100         2.65   \n",
       "2     1   13.16      2.36  2.67          18.6       101          2.8   \n",
       "3     1   14.37      1.95   2.5          16.8       113         3.85   \n",
       "4     1   13.24      2.59  2.87            21       118          2.8   \n",
       "\n",
       "  Flavanoids NonflavanoidPhenols Proanthocyanins ColorIntensity   Hue    OD  \\\n",
       "0       3.06                 .28            2.29           5.64  1.04  3.92   \n",
       "1       2.76                 .26            1.28           4.38  1.05   3.4   \n",
       "2       3.24                  .3            2.81           5.68  1.03  3.17   \n",
       "3       3.49                 .24            2.18            7.8   .86  3.45   \n",
       "4       2.69                 .39            1.82           4.32  1.04  2.93   \n",
       "\n",
       "  Proline  \n",
       "0    1065  \n",
       "1    1050  \n",
       "2    1185  \n",
       "3    1480  \n",
       "4     735  "
      ]
     },
     "execution_count": 7,
     "metadata": {},
     "output_type": "execute_result"
    }
   ],
   "source": [
    "wine.toPandas().head(5)"
   ]
  },
  {
   "cell_type": "code",
   "execution_count": 8,
   "metadata": {},
   "outputs": [
    {
     "data": {
      "text/html": [
       "<div>\n",
       "<style scoped>\n",
       "    .dataframe tbody tr th:only-of-type {\n",
       "        vertical-align: middle;\n",
       "    }\n",
       "\n",
       "    .dataframe tbody tr th {\n",
       "        vertical-align: top;\n",
       "    }\n",
       "\n",
       "    .dataframe thead th {\n",
       "        text-align: right;\n",
       "    }\n",
       "</style>\n",
       "<table border=\"1\" class=\"dataframe\">\n",
       "  <thead>\n",
       "    <tr style=\"text-align: right;\">\n",
       "      <th></th>\n",
       "      <th>summary</th>\n",
       "      <th>Label</th>\n",
       "      <th>Alcohol</th>\n",
       "      <th>MalicAcid</th>\n",
       "      <th>Ash</th>\n",
       "      <th>AshAlkalinity</th>\n",
       "      <th>Magnesium</th>\n",
       "      <th>TotalPhenols</th>\n",
       "      <th>Flavanoids</th>\n",
       "      <th>NonflavanoidPhenols</th>\n",
       "      <th>Proanthocyanins</th>\n",
       "      <th>ColorIntensity</th>\n",
       "      <th>Hue</th>\n",
       "      <th>OD</th>\n",
       "      <th>Proline</th>\n",
       "    </tr>\n",
       "  </thead>\n",
       "  <tbody>\n",
       "    <tr>\n",
       "      <th>0</th>\n",
       "      <td>count</td>\n",
       "      <td>178</td>\n",
       "      <td>178</td>\n",
       "      <td>178</td>\n",
       "      <td>178</td>\n",
       "      <td>178</td>\n",
       "      <td>178</td>\n",
       "      <td>178</td>\n",
       "      <td>178</td>\n",
       "      <td>178</td>\n",
       "      <td>178</td>\n",
       "      <td>178</td>\n",
       "      <td>178</td>\n",
       "      <td>178</td>\n",
       "      <td>178</td>\n",
       "    </tr>\n",
       "    <tr>\n",
       "      <th>1</th>\n",
       "      <td>mean</td>\n",
       "      <td>1.9382022471910112</td>\n",
       "      <td>13.000617977528083</td>\n",
       "      <td>2.336348314606741</td>\n",
       "      <td>2.3665168539325854</td>\n",
       "      <td>19.49494382022472</td>\n",
       "      <td>99.74157303370787</td>\n",
       "      <td>2.295112359550562</td>\n",
       "      <td>2.0292696629213474</td>\n",
       "      <td>0.36185393258426973</td>\n",
       "      <td>1.5908988764044953</td>\n",
       "      <td>5.058089882022473</td>\n",
       "      <td>0.9574494382022468</td>\n",
       "      <td>2.6116853932584254</td>\n",
       "      <td>746.8932584269663</td>\n",
       "    </tr>\n",
       "    <tr>\n",
       "      <th>2</th>\n",
       "      <td>stddev</td>\n",
       "      <td>0.7750349899850563</td>\n",
       "      <td>0.811826538005858</td>\n",
       "      <td>1.1171460976144625</td>\n",
       "      <td>0.2743440090608148</td>\n",
       "      <td>3.339563767173504</td>\n",
       "      <td>14.282483515295652</td>\n",
       "      <td>0.6258510488339892</td>\n",
       "      <td>0.9988586850169471</td>\n",
       "      <td>0.12445334029667941</td>\n",
       "      <td>0.5723588626747612</td>\n",
       "      <td>2.318285871822413</td>\n",
       "      <td>0.22857156582982324</td>\n",
       "      <td>0.7099904287650503</td>\n",
       "      <td>314.9074742768492</td>\n",
       "    </tr>\n",
       "    <tr>\n",
       "      <th>3</th>\n",
       "      <td>min</td>\n",
       "      <td>1</td>\n",
       "      <td>11.03</td>\n",
       "      <td>.74</td>\n",
       "      <td>1.36</td>\n",
       "      <td>10.6</td>\n",
       "      <td>100</td>\n",
       "      <td>.98</td>\n",
       "      <td>.34</td>\n",
       "      <td>.13</td>\n",
       "      <td>.41</td>\n",
       "      <td>1.28</td>\n",
       "      <td>.48</td>\n",
       "      <td>1.27</td>\n",
       "      <td>1015</td>\n",
       "    </tr>\n",
       "    <tr>\n",
       "      <th>4</th>\n",
       "      <td>max</td>\n",
       "      <td>3</td>\n",
       "      <td>14.83</td>\n",
       "      <td>5.8</td>\n",
       "      <td>3.23</td>\n",
       "      <td>30</td>\n",
       "      <td>99</td>\n",
       "      <td>3.88</td>\n",
       "      <td>5.08</td>\n",
       "      <td>.66</td>\n",
       "      <td>3.58</td>\n",
       "      <td>9.899999</td>\n",
       "      <td>1.71</td>\n",
       "      <td>4</td>\n",
       "      <td>990</td>\n",
       "    </tr>\n",
       "  </tbody>\n",
       "</table>\n",
       "</div>"
      ],
      "text/plain": [
       "  summary               Label             Alcohol           MalicAcid  \\\n",
       "0   count                 178                 178                 178   \n",
       "1    mean  1.9382022471910112  13.000617977528083   2.336348314606741   \n",
       "2  stddev  0.7750349899850563   0.811826538005858  1.1171460976144625   \n",
       "3     min                   1               11.03                 .74   \n",
       "4     max                   3               14.83                 5.8   \n",
       "\n",
       "                  Ash      AshAlkalinity           Magnesium  \\\n",
       "0                 178                178                 178   \n",
       "1  2.3665168539325854  19.49494382022472   99.74157303370787   \n",
       "2  0.2743440090608148  3.339563767173504  14.282483515295652   \n",
       "3                1.36               10.6                 100   \n",
       "4                3.23                 30                  99   \n",
       "\n",
       "         TotalPhenols          Flavanoids  NonflavanoidPhenols  \\\n",
       "0                 178                 178                  178   \n",
       "1   2.295112359550562  2.0292696629213474  0.36185393258426973   \n",
       "2  0.6258510488339892  0.9988586850169471  0.12445334029667941   \n",
       "3                 .98                 .34                  .13   \n",
       "4                3.88                5.08                  .66   \n",
       "\n",
       "      Proanthocyanins     ColorIntensity                  Hue  \\\n",
       "0                 178                178                  178   \n",
       "1  1.5908988764044953  5.058089882022473   0.9574494382022468   \n",
       "2  0.5723588626747612  2.318285871822413  0.22857156582982324   \n",
       "3                 .41               1.28                  .48   \n",
       "4                3.58           9.899999                 1.71   \n",
       "\n",
       "                   OD            Proline  \n",
       "0                 178                178  \n",
       "1  2.6116853932584254  746.8932584269663  \n",
       "2  0.7099904287650503  314.9074742768492  \n",
       "3                1.27               1015  \n",
       "4                   4                990  "
      ]
     },
     "execution_count": 8,
     "metadata": {},
     "output_type": "execute_result"
    }
   ],
   "source": [
    "wine.describe().toPandas()"
   ]
  },
  {
   "cell_type": "markdown",
   "metadata": {},
   "source": [
    "#### Observations:\n",
    "----------------------\n",
    "1. Observe 'count' summary => Indicates no missing value for any of the columns. Pretty clean dataset.\n",
    "2. Observe 'mean' summary => For some of the attributes, mean value is high. May be because of different units. Possible Normalization / Standardization ??"
   ]
  },
  {
   "cell_type": "code",
   "execution_count": 9,
   "metadata": {},
   "outputs": [
    {
     "name": "stdout",
     "output_type": "stream",
     "text": [
      "+-----+\n",
      "|label|\n",
      "+-----+\n",
      "|    3|\n",
      "|    1|\n",
      "|    2|\n",
      "+-----+\n",
      "\n"
     ]
    }
   ],
   "source": [
    "# Check Distinct labels and their distribution\n",
    "\n",
    "wine.select('label').distinct().show()"
   ]
  },
  {
   "cell_type": "code",
   "execution_count": 10,
   "metadata": {},
   "outputs": [
    {
     "name": "stdout",
     "output_type": "stream",
     "text": [
      "+-----+-----+\n",
      "|label|count|\n",
      "+-----+-----+\n",
      "|    3|   48|\n",
      "|    1|   59|\n",
      "|    2|   71|\n",
      "+-----+-----+\n",
      "\n"
     ]
    }
   ],
   "source": [
    "wine.groupBy('label').count().show()"
   ]
  },
  {
   "cell_type": "code",
   "execution_count": 11,
   "metadata": {},
   "outputs": [
    {
     "name": "stdout",
     "output_type": "stream",
     "text": [
      "Total Number of Records : 178\n"
     ]
    }
   ],
   "source": [
    "num_rec = wine.count()\n",
    "print(f'Total Number of Records : {num_rec}')"
   ]
  },
  {
   "cell_type": "code",
   "execution_count": 12,
   "metadata": {},
   "outputs": [
    {
     "name": "stdout",
     "output_type": "stream",
     "text": [
      "+-----+-----------+------+\n",
      "|label|class_count|class%|\n",
      "+-----+-----------+------+\n",
      "|    3|         48| 26.97|\n",
      "|    1|         59| 33.15|\n",
      "|    2|         71| 39.89|\n",
      "+-----+-----------+------+\n",
      "\n"
     ]
    }
   ],
   "source": [
    "wine.groupBy('label').agg(func.count('label').alias('class_count')\n",
    "                         ,func.round(((func.count('label')/num_rec) * 100),2).alias('class%')\n",
    "                         ).show()"
   ]
  },
  {
   "cell_type": "markdown",
   "metadata": {},
   "source": [
    "** Doesn't seemingly have a class imbalance problem :)"
   ]
  },
  {
   "cell_type": "markdown",
   "metadata": {},
   "source": [
    "### [2] Data preparation for Spark ML Model"
   ]
  },
  {
   "cell_type": "markdown",
   "metadata": {},
   "source": [
    "* Spark model expect data in form of a dataframe with 2 columns:\n",
    "    1. label => Output in form of a numeric vector\n",
    "    2. features => In form of a Dense Vector\n",
    "    \n",
    "\n",
    "* In our case, dataset is pretty clean and no specific pre-processing is needed.\n",
    "\n",
    "\n",
    "* We just have to convert the `label` column to numeric in dataframe."
   ]
  },
  {
   "cell_type": "code",
   "execution_count": 13,
   "metadata": {},
   "outputs": [],
   "source": [
    "from pyspark.ml.linalg import Vectors"
   ]
  },
  {
   "cell_type": "code",
   "execution_count": 14,
   "metadata": {},
   "outputs": [],
   "source": [
    "def vectorize(data):\n",
    "    return data.rdd.map(lambda x : [x[0], Vectors.dense(x[1:])]).toDF([\"label\",\"features\"])"
   ]
  },
  {
   "cell_type": "code",
   "execution_count": 15,
   "metadata": {},
   "outputs": [],
   "source": [
    "vectorizedData = vectorize(wine)"
   ]
  },
  {
   "cell_type": "code",
   "execution_count": 16,
   "metadata": {},
   "outputs": [
    {
     "name": "stdout",
     "output_type": "stream",
     "text": [
      "+-----+---------------------------------------------------------------------+\n",
      "|label|features                                                             |\n",
      "+-----+---------------------------------------------------------------------+\n",
      "|1    |[14.23,1.71,2.43,15.6,127.0,2.8,3.06,0.28,2.29,5.64,1.04,3.92,1065.0]|\n",
      "|1    |[13.2,1.78,2.14,11.2,100.0,2.65,2.76,0.26,1.28,4.38,1.05,3.4,1050.0] |\n",
      "|1    |[13.16,2.36,2.67,18.6,101.0,2.8,3.24,0.3,2.81,5.68,1.03,3.17,1185.0] |\n",
      "|1    |[14.37,1.95,2.5,16.8,113.0,3.85,3.49,0.24,2.18,7.8,0.86,3.45,1480.0] |\n",
      "|1    |[13.24,2.59,2.87,21.0,118.0,2.8,2.69,0.39,1.82,4.32,1.04,2.93,735.0] |\n",
      "+-----+---------------------------------------------------------------------+\n",
      "only showing top 5 rows\n",
      "\n"
     ]
    }
   ],
   "source": [
    "vectorizedData.show(5, truncate=False)"
   ]
  },
  {
   "cell_type": "code",
   "execution_count": 17,
   "metadata": {},
   "outputs": [
    {
     "name": "stdout",
     "output_type": "stream",
     "text": [
      "root\n",
      " |-- features: vector (nullable = true)\n",
      " |-- labelIndex: float (nullable = true)\n",
      "\n"
     ]
    }
   ],
   "source": [
    "vectorizedData = vectorizedData.withColumn('labelIndex', vectorizedData.label.cast('float')).drop('label')\n",
    "vectorizedData.printSchema()"
   ]
  },
  {
   "cell_type": "code",
   "execution_count": 18,
   "metadata": {},
   "outputs": [],
   "source": [
    "# Split Training and test data\n",
    "\n",
    "(trainData, testData) = vectorizedData.randomSplit([0.8, 0.2])"
   ]
  },
  {
   "cell_type": "code",
   "execution_count": 19,
   "metadata": {},
   "outputs": [],
   "source": [
    "# Build DT Classifier\n",
    "\n",
    "from pyspark.ml.classification import DecisionTreeClassifier"
   ]
  },
  {
   "cell_type": "code",
   "execution_count": 20,
   "metadata": {},
   "outputs": [],
   "source": [
    "dtclf = DecisionTreeClassifier(labelCol='labelIndex', featuresCol='features', maxDepth=3, impurity='gini')"
   ]
  },
  {
   "cell_type": "code",
   "execution_count": 21,
   "metadata": {},
   "outputs": [],
   "source": [
    "model = dtclf.fit(trainData)"
   ]
  },
  {
   "cell_type": "code",
   "execution_count": 22,
   "metadata": {},
   "outputs": [],
   "source": [
    "predictions = model.transform(testData)"
   ]
  },
  {
   "cell_type": "code",
   "execution_count": 23,
   "metadata": {},
   "outputs": [
    {
     "name": "stdout",
     "output_type": "stream",
     "text": [
      "+--------------------+----------+------------------+--------------------+----------+\n",
      "|            features|labelIndex|     rawPrediction|         probability|prediction|\n",
      "+--------------------+----------+------------------+--------------------+----------+\n",
      "|[11.61,1.35,2.7,2...|       2.0|[0.0,0.0,50.0,0.0]|   [0.0,0.0,1.0,0.0]|       2.0|\n",
      "|[11.84,2.89,2.23,...|       2.0|[0.0,0.0,50.0,0.0]|   [0.0,0.0,1.0,0.0]|       2.0|\n",
      "|[12.22,1.29,1.94,...|       2.0|[0.0,0.0,50.0,0.0]|   [0.0,0.0,1.0,0.0]|       2.0|\n",
      "|[12.29,1.41,1.98,...|       2.0|[0.0,0.0,50.0,0.0]|   [0.0,0.0,1.0,0.0]|       2.0|\n",
      "|[12.36,3.83,2.38,...|       3.0|[0.0,0.0,1.0,37.0]|[0.0,0.0,0.026315...|       3.0|\n",
      "+--------------------+----------+------------------+--------------------+----------+\n",
      "only showing top 5 rows\n",
      "\n"
     ]
    }
   ],
   "source": [
    "predictions.show(5)"
   ]
  },
  {
   "cell_type": "code",
   "execution_count": 24,
   "metadata": {},
   "outputs": [],
   "source": [
    "# Evaluate Model\n",
    "\n",
    "from pyspark.ml.evaluation import MulticlassClassificationEvaluator\n",
    "\n",
    "evaluator = MulticlassClassificationEvaluator(predictionCol='prediction', labelCol='labelIndex', metricName='f1')"
   ]
  },
  {
   "cell_type": "code",
   "execution_count": 25,
   "metadata": {},
   "outputs": [],
   "source": [
    "score = evaluator.evaluate(predictions)"
   ]
  },
  {
   "cell_type": "code",
   "execution_count": 26,
   "metadata": {},
   "outputs": [
    {
     "data": {
      "text/plain": [
       "0.9731443994601889"
      ]
     },
     "execution_count": 26,
     "metadata": {},
     "output_type": "execute_result"
    }
   ],
   "source": [
    "score"
   ]
  },
  {
   "cell_type": "code",
   "execution_count": 27,
   "metadata": {},
   "outputs": [],
   "source": [
    "# Other Scores\n",
    "\n",
    "evaluator1 = MulticlassClassificationEvaluator(predictionCol='prediction', labelCol='labelIndex')"
   ]
  },
  {
   "cell_type": "code",
   "execution_count": 28,
   "metadata": {},
   "outputs": [
    {
     "name": "stdout",
     "output_type": "stream",
     "text": [
      "Accuracy : 0.9736842105263158\n",
      "Precision : 0.9750000000000001\n",
      "Recall : 0.9736842105263158\n"
     ]
    }
   ],
   "source": [
    "accuracy = evaluator.evaluate(predictions, {evaluator.metricName: 'accuracy'})\n",
    "precision = evaluator.evaluate(predictions, {evaluator.metricName: 'weightedPrecision'})\n",
    "recall = evaluator.evaluate(predictions, {evaluator.metricName: 'weightedRecall'})\n",
    "\n",
    "print(f'Accuracy : {accuracy}\\nPrecision : {precision}\\nRecall : {recall}')"
   ]
  }
 ],
 "metadata": {
  "kernelspec": {
   "display_name": "Python 3",
   "language": "python",
   "name": "python3"
  },
  "language_info": {
   "codemirror_mode": {
    "name": "ipython",
    "version": 3
   },
   "file_extension": ".py",
   "mimetype": "text/x-python",
   "name": "python",
   "nbconvert_exporter": "python",
   "pygments_lexer": "ipython3",
   "version": "3.7.3"
  }
 },
 "nbformat": 4,
 "nbformat_minor": 2
}
