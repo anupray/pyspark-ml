{
 "cells": [
  {
   "cell_type": "markdown",
   "metadata": {},
   "source": [
    "# Objective\n",
    "----------------\n",
    "\n",
    "* We will be building a simple **Recommender System** using `Collaborative Filtering` algorithm.\n",
    "* Dataset used here: Movies Dataset from Movielens: http://files.grouplens.org/datasets/movielens/ml-latest-small.zip\n",
    "* Explicit ratings available in data"
   ]
  },
  {
   "cell_type": "markdown",
   "metadata": {},
   "source": [
    "#### Import Required Packages"
   ]
  },
  {
   "cell_type": "code",
   "execution_count": 1,
   "metadata": {},
   "outputs": [],
   "source": [
    "from pyspark.sql import SparkSession\n",
    "from pyspark.sql.functions import col, explode, sum, split\n",
    "from pyspark.sql.types import IntegerType\n",
    "from pyspark.ml.recommendation import ALS\n",
    "from pyspark.ml.evaluation import RegressionEvaluator"
   ]
  },
  {
   "cell_type": "markdown",
   "metadata": {},
   "source": [
    "#### Read and Create needed dataframes"
   ]
  },
  {
   "cell_type": "code",
   "execution_count": 2,
   "metadata": {},
   "outputs": [
    {
     "data": {
      "text/html": [
       "\n",
       "            <div>\n",
       "                <p><b>SparkSession - in-memory</b></p>\n",
       "                \n",
       "        <div>\n",
       "            <p><b>SparkContext</b></p>\n",
       "\n",
       "            <p><a href=\"http://192.168.2.5:4041\">Spark UI</a></p>\n",
       "\n",
       "            <dl>\n",
       "              <dt>Version</dt>\n",
       "                <dd><code>v2.4.5</code></dd>\n",
       "              <dt>Master</dt>\n",
       "                <dd><code>local[*]</code></dd>\n",
       "              <dt>AppName</dt>\n",
       "                <dd><code>Collaborative Filtering with spark-ml</code></dd>\n",
       "            </dl>\n",
       "        </div>\n",
       "        \n",
       "            </div>\n",
       "        "
      ],
      "text/plain": [
       "<pyspark.sql.session.SparkSession at 0x1187e2c88>"
      ]
     },
     "execution_count": 2,
     "metadata": {},
     "output_type": "execute_result"
    }
   ],
   "source": [
    "spark = SparkSession.builder.appName('Collaborative Filtering with spark-ml').getOrCreate()\n",
    "spark"
   ]
  },
  {
   "cell_type": "code",
   "execution_count": 3,
   "metadata": {},
   "outputs": [],
   "source": [
    "data_loc = '../Course Materials/spark-2-building-machine-learning-models/02/demos/datasets/movielens/'"
   ]
  },
  {
   "cell_type": "code",
   "execution_count": 4,
   "metadata": {},
   "outputs": [
    {
     "name": "stdout",
     "output_type": "stream",
     "text": [
      "root\n",
      " |-- userId: integer (nullable = true)\n",
      " |-- movieId: integer (nullable = true)\n",
      " |-- rating: double (nullable = true)\n",
      " |-- timestamp: integer (nullable = true)\n",
      "\n"
     ]
    }
   ],
   "source": [
    "ratings = spark.read.csv(data_loc+'ratings.csv', header=True, inferSchema=True)\n",
    "ratings.printSchema()"
   ]
  },
  {
   "cell_type": "code",
   "execution_count": 5,
   "metadata": {},
   "outputs": [
    {
     "name": "stdout",
     "output_type": "stream",
     "text": [
      "root\n",
      " |-- movieId: integer (nullable = true)\n",
      " |-- title: string (nullable = true)\n",
      " |-- genres: string (nullable = true)\n",
      "\n"
     ]
    }
   ],
   "source": [
    "movies = spark.read.csv(data_loc+'/movies.csv', header=True, inferSchema=True)\n",
    "movies.printSchema()"
   ]
  },
  {
   "cell_type": "markdown",
   "metadata": {},
   "source": [
    "#### Explore and prepare data"
   ]
  },
  {
   "cell_type": "code",
   "execution_count": 6,
   "metadata": {},
   "outputs": [
    {
     "name": "stdout",
     "output_type": "stream",
     "text": [
      "+------+-------+------+\n",
      "|userId|movieId|rating|\n",
      "+------+-------+------+\n",
      "|     1|     31|   2.5|\n",
      "|     1|   1029|   3.0|\n",
      "|     1|   1061|   3.0|\n",
      "|     1|   1129|   2.0|\n",
      "|     1|   1172|   4.0|\n",
      "+------+-------+------+\n",
      "only showing top 5 rows\n",
      "\n"
     ]
    }
   ],
   "source": [
    "# Drop 'timestamp' column as this is not needed for our recommendation system\n",
    "\n",
    "ratings = ratings.drop('timestamp')\n",
    "ratings.show(5)"
   ]
  },
  {
   "cell_type": "code",
   "execution_count": 7,
   "metadata": {},
   "outputs": [
    {
     "name": "stdout",
     "output_type": "stream",
     "text": [
      "+-------+------------------+\n",
      "|summary|            rating|\n",
      "+-------+------------------+\n",
      "|  count|            100004|\n",
      "|   mean| 3.543608255669773|\n",
      "| stddev|1.0580641091070326|\n",
      "|    min|               0.5|\n",
      "|    max|               5.0|\n",
      "+-------+------------------+\n",
      "\n"
     ]
    }
   ],
   "source": [
    "# Descriptive statistics of 'rating' column\n",
    "\n",
    "ratings.select('rating').describe().show()"
   ]
  },
  {
   "cell_type": "code",
   "execution_count": 8,
   "metadata": {},
   "outputs": [
    {
     "name": "stdout",
     "output_type": "stream",
     "text": [
      "+--------+\n",
      "|num_null|\n",
      "+--------+\n",
      "|       0|\n",
      "+--------+\n",
      "\n"
     ]
    }
   ],
   "source": [
    "# check for missing values\n",
    "\n",
    "ratings.select(sum(ratings.rating.isNull().cast(\"int\")).alias('num_null')).show()"
   ]
  },
  {
   "cell_type": "markdown",
   "metadata": {},
   "source": [
    "##### Note:\n",
    "-----------\n",
    "Here:\n",
    "\n",
    "* movieId <=> product\n",
    "* userId <=> customer\n",
    "\n",
    "With the recommendation system, we are trying to recommend movies to users with help of explicit ratings in `rating` column."
   ]
  },
  {
   "cell_type": "code",
   "execution_count": 9,
   "metadata": {},
   "outputs": [
    {
     "name": "stdout",
     "output_type": "stream",
     "text": [
      "Number of Movies in Rating Dataset : 9066\n",
      "Number of Movies in Movie Dataset : 9125\n"
     ]
    }
   ],
   "source": [
    "# Check for number of movies in ratings ~ movies dataframe\n",
    "\n",
    "ratings_num_movies = ratings.select('movieId').distinct().count()\n",
    "\n",
    "movies_num_movies = movies.select('movieId').distinct().count()\n",
    "\n",
    "print(f'Number of Movies in Rating Dataset : {ratings_num_movies}')\n",
    "print(f'Number of Movies in Movie Dataset : {movies_num_movies}')"
   ]
  },
  {
   "cell_type": "markdown",
   "metadata": {},
   "source": [
    "### Collaborative Filtering Model using ALS Method"
   ]
  },
  {
   "cell_type": "code",
   "execution_count": 10,
   "metadata": {},
   "outputs": [],
   "source": [
    "als = ALS(userCol='userId'\n",
    "         ,itemCol='movieId'\n",
    "         ,ratingCol='rating'\n",
    "         ,coldStartStrategy='drop'\n",
    "         )"
   ]
  },
  {
   "cell_type": "markdown",
   "metadata": {},
   "source": [
    "**`Notes`**\n",
    "\n",
    "* Default value of maxIter = 10 and regParam = 0.1 is used here."
   ]
  },
  {
   "cell_type": "code",
   "execution_count": 11,
   "metadata": {},
   "outputs": [],
   "source": [
    "# Split data into training and test with 80:20 ratio respectively\n",
    "\n",
    "(training, test) = ratings.randomSplit([0.8, 0.2])"
   ]
  },
  {
   "cell_type": "code",
   "execution_count": 12,
   "metadata": {},
   "outputs": [],
   "source": [
    "model = als.fit(training)"
   ]
  },
  {
   "cell_type": "code",
   "execution_count": 13,
   "metadata": {},
   "outputs": [],
   "source": [
    "predictions = model.transform(test)"
   ]
  },
  {
   "cell_type": "code",
   "execution_count": 14,
   "metadata": {},
   "outputs": [
    {
     "name": "stdout",
     "output_type": "stream",
     "text": [
      "+------+-------+------+----------+\n",
      "|userId|movieId|rating|prediction|\n",
      "+------+-------+------+----------+\n",
      "|   534|    463|   4.0|  3.800033|\n",
      "|    85|    471|   3.0| 3.3809352|\n",
      "|   350|    471|   3.0|   3.65091|\n",
      "|   602|    471|   3.0|  4.243025|\n",
      "|   306|    471|   3.0| 3.7654939|\n",
      "+------+-------+------+----------+\n",
      "only showing top 5 rows\n",
      "\n"
     ]
    }
   ],
   "source": [
    "predictions.show(5)"
   ]
  },
  {
   "cell_type": "code",
   "execution_count": 15,
   "metadata": {},
   "outputs": [
    {
     "name": "stdout",
     "output_type": "stream",
     "text": [
      "RMSE Error: 0.9118128926056069\n"
     ]
    }
   ],
   "source": [
    "# Get the RMSE error metric\n",
    "\n",
    "regevaluator = RegressionEvaluator(labelCol='rating')\n",
    "\n",
    "rmse = regevaluator.evaluate(predictions)\n",
    "\n",
    "print(f'RMSE Error: {rmse}')"
   ]
  },
  {
   "cell_type": "markdown",
   "metadata": {},
   "source": [
    "**`Note`**\n",
    "\n",
    "* RMSE error indicates that the predicted rating is off by 0.91 on an average."
   ]
  },
  {
   "cell_type": "markdown",
   "metadata": {},
   "source": [
    "#### Generate All Recommendations"
   ]
  },
  {
   "cell_type": "code",
   "execution_count": 16,
   "metadata": {},
   "outputs": [
    {
     "name": "stdout",
     "output_type": "stream",
     "text": [
      "root\n",
      " |-- userId: integer (nullable = false)\n",
      " |-- recommendations: array (nullable = true)\n",
      " |    |-- element: struct (containsNull = true)\n",
      " |    |    |-- movieId: integer (nullable = true)\n",
      " |    |    |-- rating: float (nullable = true)\n",
      "\n"
     ]
    }
   ],
   "source": [
    "# Top 5 movies recommendation for all users\n",
    "\n",
    "all_movie_recommendations = model.recommendForAllUsers(5)\n",
    "all_movie_recommendations.printSchema()"
   ]
  },
  {
   "cell_type": "markdown",
   "metadata": {},
   "source": [
    "#### Verify Recommendation for a Sample user"
   ]
  },
  {
   "cell_type": "code",
   "execution_count": 17,
   "metadata": {},
   "outputs": [
    {
     "name": "stdout",
     "output_type": "stream",
     "text": [
      "+------+-------------------------------------------------------------------------------------------+\n",
      "|userId|recommendations                                                                            |\n",
      "+------+-------------------------------------------------------------------------------------------+\n",
      "|1     |[[390, 4.0157294], [5114, 4.010362], [2563, 3.951115], [994, 3.7134087], [26840, 3.691651]]|\n",
      "+------+-------------------------------------------------------------------------------------------+\n",
      "\n"
     ]
    }
   ],
   "source": [
    "# Check the sample for one user\n",
    "\n",
    "all_movie_recommendations.filter(all_movie_recommendations['userid'] == 1).show(truncate=False)"
   ]
  },
  {
   "cell_type": "code",
   "execution_count": 18,
   "metadata": {},
   "outputs": [
    {
     "name": "stdout",
     "output_type": "stream",
     "text": [
      "+-------+\n",
      "|movieId|\n",
      "+-------+\n",
      "|     31|\n",
      "|   1339|\n",
      "|   2294|\n",
      "|   1061|\n",
      "|   1172|\n",
      "|   2455|\n",
      "|   2193|\n",
      "|   1029|\n",
      "|   2105|\n",
      "|   2150|\n",
      "|   1263|\n",
      "|   2968|\n",
      "|   3671|\n",
      "|   1293|\n",
      "|   1287|\n",
      "|   1343|\n",
      "|   1405|\n",
      "|   1953|\n",
      "|   1129|\n",
      "|   1371|\n",
      "+-------+\n",
      "\n"
     ]
    }
   ],
   "source": [
    "# Get all movie IDs for Userid = 1\n",
    "\n",
    "ratings.filter(ratings['userId'] == 1).select('movieId').distinct().show(20)"
   ]
  },
  {
   "cell_type": "markdown",
   "metadata": {},
   "source": [
    "* As observed here, the top 5 recommended movies are not already seen by userid == 1"
   ]
  },
  {
   "cell_type": "code",
   "execution_count": 19,
   "metadata": {},
   "outputs": [],
   "source": [
    "user1_movies = ratings.filter(ratings.userId == 1).select('movieId').distinct()\n",
    "\n",
    "user1_movies = user1_movies.join(movies, ['movieId'], 'inner').select(user1_movies.movieId, 'title', 'genres')"
   ]
  },
  {
   "cell_type": "code",
   "execution_count": 20,
   "metadata": {},
   "outputs": [
    {
     "data": {
      "text/plain": [
       "15"
      ]
     },
     "execution_count": 20,
     "metadata": {},
     "output_type": "execute_result"
    }
   ],
   "source": [
    "distinct_genres_user1 = user1_movies.select(split(user1_movies.genres, '\\\\|').alias('genre'))\\\n",
    "                                    .select(explode('genre')).distinct()\n",
    "\n",
    "distinct_genres_user1.count()"
   ]
  },
  {
   "cell_type": "code",
   "execution_count": 21,
   "metadata": {},
   "outputs": [
    {
     "name": "stdout",
     "output_type": "stream",
     "text": [
      "+---------+\n",
      "|      col|\n",
      "+---------+\n",
      "|    Crime|\n",
      "|  Romance|\n",
      "| Thriller|\n",
      "|Adventure|\n",
      "|    Drama|\n",
      "|      War|\n",
      "|  Fantasy|\n",
      "|  Musical|\n",
      "|Animation|\n",
      "|   Horror|\n",
      "|  Western|\n",
      "|   Comedy|\n",
      "| Children|\n",
      "|   Action|\n",
      "|   Sci-Fi|\n",
      "+---------+\n",
      "\n"
     ]
    }
   ],
   "source": [
    "distinct_genres_user1.show(15)"
   ]
  },
  {
   "cell_type": "code",
   "execution_count": 22,
   "metadata": {},
   "outputs": [
    {
     "name": "stdout",
     "output_type": "stream",
     "text": [
      "+------+\n",
      "| genre|\n",
      "+------+\n",
      "| Crime|\n",
      "| Drama|\n",
      "|Comedy|\n",
      "|Action|\n",
      "+------+\n",
      "\n"
     ]
    }
   ],
   "source": [
    "# Check for recommended Genres\n",
    "\n",
    "recommended_movie_genre_user1 = all_movie_recommendations.filter(all_movie_recommendations.userId == 1)\\\n",
    "                                .select(explode('recommendations').alias('element'))\\\n",
    "                                .select(col('element.movieId').alias('movieId'))\n",
    "\n",
    "recommended_movie_genre_user1 = recommended_movie_genre_user1.join(movies, ['movieId'], 'inner')\\\n",
    "                                .select(split(movies.genres, '\\\\|').alias('genre'))\\\n",
    "                                .select(explode('genre').alias('genre')).distinct()\n",
    "\n",
    "recommended_movie_genre_user1.show(10)"
   ]
  },
  {
   "cell_type": "markdown",
   "metadata": {},
   "source": [
    "**`Note`**\n",
    "\n",
    "* Oberve that the recommended genre is in line with what the user is watching."
   ]
  },
  {
   "cell_type": "markdown",
   "metadata": {},
   "source": [
    "#### Get `n` recommendation for any given user"
   ]
  },
  {
   "cell_type": "code",
   "execution_count": 23,
   "metadata": {},
   "outputs": [],
   "source": [
    "def getRecommendationForUser(userId, numRec):\n",
    "    '''\n",
    "    Get `numrec` recommendations for given `userId`\n",
    "    :return : Dataframe with the recommendation and rating\n",
    "    '''\n",
    "    \n",
    "    userDF = spark.createDataFrame([userId], IntegerType()).toDF('userId')\n",
    "    recommendations = model.recommendForUserSubset(userDF, numItems=numRec)\n",
    "    recommendations = recommendations\\\n",
    "                        .select(explode(recommendations.recommendations).alias('recommendations'))\\\n",
    "                        .select(col('recommendations.movieId').alias('movieId')\n",
    "                               ,col('recommendations.rating').alias('rating')\n",
    "                               )\n",
    "    recommendedMovies = recommendations.join(movies, ['movieId'], 'inner')\\\n",
    "                                       .select('title', 'genres', 'rating')\\\n",
    "                                       .orderBy('rating', ascending=False)\n",
    "    \n",
    "    return recommendedMovies"
   ]
  },
  {
   "cell_type": "code",
   "execution_count": 24,
   "metadata": {},
   "outputs": [
    {
     "name": "stdout",
     "output_type": "stream",
     "text": [
      "+-----------------------------------+-------------------------+---------+\n",
      "|title                              |genres                   |rating   |\n",
      "+-----------------------------------+-------------------------+---------+\n",
      "|Faster Pussycat! Kill! Kill! (1965)|Action|Crime|Drama       |4.0157294|\n",
      "|Bad and the Beautiful, The (1952)  |Drama                    |4.010362 |\n",
      "|Dangerous Beauty (1998)            |Drama                    |3.951115 |\n",
      "|Big Night (1996)                   |Comedy|Drama             |3.7134087|\n",
      "|Sonatine (Sonachine) (1993)        |Action|Comedy|Crime|Drama|3.691651 |\n",
      "+-----------------------------------+-------------------------+---------+\n",
      "\n"
     ]
    }
   ],
   "source": [
    "getRecommendationForUser(1, 5).show(5, truncate=False)"
   ]
  },
  {
   "cell_type": "code",
   "execution_count": 25,
   "metadata": {},
   "outputs": [
    {
     "name": "stdout",
     "output_type": "stream",
     "text": [
      "+----------------------------------------------------+-------------------------------+---------+\n",
      "|title                                               |genres                         |rating   |\n",
      "+----------------------------------------------------+-------------------------------+---------+\n",
      "|Love Me If You Dare (Jeux d'enfants) (2003)         |Drama|Romance                  |5.10848  |\n",
      "|Vampire Hunter D: Bloodlust (Banpaia hantâ D) (2000)|Animation|Fantasy|Horror|Sci-Fi|5.0026155|\n",
      "|Looney, Looney, Looney Bugs Bunny Movie, The (1981) |Animation|Children|Comedy      |4.971336 |\n",
      "+----------------------------------------------------+-------------------------------+---------+\n",
      "\n"
     ]
    }
   ],
   "source": [
    "getRecommendationForUser(219, 3).show(3, False)"
   ]
  }
 ],
 "metadata": {
  "kernelspec": {
   "display_name": "Python 3",
   "language": "python",
   "name": "python3"
  },
  "language_info": {
   "codemirror_mode": {
    "name": "ipython",
    "version": 3
   },
   "file_extension": ".py",
   "mimetype": "text/x-python",
   "name": "python",
   "nbconvert_exporter": "python",
   "pygments_lexer": "ipython3",
   "version": "3.7.3"
  }
 },
 "nbformat": 4,
 "nbformat_minor": 2
}
